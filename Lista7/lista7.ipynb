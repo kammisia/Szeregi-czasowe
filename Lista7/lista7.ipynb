{
 "cells": [
  {
   "cell_type": "markdown",
   "metadata": {},
   "source": [
    "# Lista 7"
   ]
  },
  {
   "cell_type": "code",
   "execution_count": 1,
   "metadata": {},
   "outputs": [],
   "source": [
    "import numpy as np"
   ]
  },
  {
   "cell_type": "markdown",
   "metadata": {},
   "source": [
    "## Zadanie 1\n",
    "Dla modelu AR(2) wyznacz estymatory parametrów metodą Yule-Walkera. Sprawdź poprawność metody estymacji wykorzystując symulacje Monte Carlo."
   ]
  },
  {
   "cell_type": "code",
   "execution_count": 2,
   "metadata": {},
   "outputs": [],
   "source": [
    "phi_1 = 0.2\n",
    "phi_2 = 0.4\n",
    "sigma = np.sqrt(0.5)\n",
    "n = 10**3\n",
    "N = 500"
   ]
  },
  {
   "cell_type": "code",
   "execution_count": null,
   "metadata": {},
   "outputs": [],
   "source": []
  },
  {
   "cell_type": "markdown",
   "metadata": {},
   "source": [
    "## Zadanie 2\n",
    "Sprawdź poprawność metody największej wiarygodności dla modelu AR(1) wykorzystując symulacje Monte Carlo. Wyniki porównaj z metodą Yule-Walkera."
   ]
  },
  {
   "cell_type": "code",
   "execution_count": null,
   "metadata": {},
   "outputs": [],
   "source": []
  },
  {
   "cell_type": "markdown",
   "metadata": {},
   "source": [
    "## Zadanie 3\n",
    "Dla modelu MA(1):\n",
    "$$ X_t = Z_t + \\theta Z_{t-1},\\quad \\{Z_t\\} \\sim WN(0,\\sigma^2) $$\n",
    "i konkretnych wartości $\\theta$ oraz $\\sigma$ wyznacz przedziały ufności na zadanym poziomie ufności dla wartości funkcji PACF dla maksymalnego opóźnienia $h = 20$. Wykorzystaj symulacje Monte Carlo."
   ]
  }
 ],
 "metadata": {
  "kernelspec": {
   "display_name": "Python 3",
   "language": "python",
   "name": "python3"
  },
  "language_info": {
   "codemirror_mode": {
    "name": "ipython",
    "version": 3
   },
   "file_extension": ".py",
   "mimetype": "text/x-python",
   "name": "python",
   "nbconvert_exporter": "python",
   "pygments_lexer": "ipython3",
   "version": "3.11.1"
  }
 },
 "nbformat": 4,
 "nbformat_minor": 2
}
